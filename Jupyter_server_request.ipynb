{
  "nbformat": 4,
  "nbformat_minor": 0,
  "metadata": {
    "colab": {
      "name": "Jupyter_server_request.ipynb",
      "provenance": []
    },
    "kernelspec": {
      "name": "python3",
      "display_name": "Python 3"
    },
    "language_info": {
      "name": "python"
    }
  },
  "cells": [
    {
      "cell_type": "code",
      "metadata": {
        "colab": {
          "base_uri": "https://localhost:8080/"
        },
        "id": "K7KhonoTnfVJ",
        "outputId": "59ca4fe6-36ea-4c1f-d861-45a12470ec0d"
      },
      "source": [
        "import urllib.request,json\n",
        "with urllib.request.urlopen(\"http://13.59.145.237:81/\") as url:\n",
        "  data = json.loads(url.read().decode())\n",
        "  print(data['snd'])"
      ],
      "execution_count": 2,
      "outputs": [
        {
          "output_type": "stream",
          "name": "stdout",
          "text": [
            "Flask return from ec2\n"
          ]
        }
      ]
    },
    {
      "cell_type": "code",
      "metadata": {
        "id": "9UKxDD3jsZiH"
      },
      "source": [
        ""
      ],
      "execution_count": null,
      "outputs": []
    }
  ]
}